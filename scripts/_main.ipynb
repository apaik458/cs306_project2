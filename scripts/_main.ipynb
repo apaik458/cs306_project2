{
 "cells": [
  {
   "cell_type": "markdown",
   "id": "directed-flush",
   "metadata": {},
   "source": [
    "# Final Robot Script"
   ]
  },
  {
   "cell_type": "markdown",
   "id": "brutal-values",
   "metadata": {},
   "source": [
    "Imports"
   ]
  },
  {
   "cell_type": "code",
   "execution_count": 1,
   "id": "paperback-hayes",
   "metadata": {},
   "outputs": [],
   "source": [
    "# Line following\n",
    "import lfrobot"
   ]
  },
  {
   "cell_type": "code",
   "execution_count": 6,
   "id": "fancy-technology",
   "metadata": {},
   "outputs": [],
   "source": [
    "# Camera\n",
    "import traitlets\n",
    "import ipywidgets.widgets as widgets\n",
    "from jetbot import Camera, bgr8_to_jpeg"
   ]
  },
  {
   "cell_type": "code",
   "execution_count": 4,
   "id": "hearing-malawi",
   "metadata": {},
   "outputs": [],
   "source": [
    "# Model\n",
    "import pickle\n",
    "from skimage.io import imread\n",
    "from skimage.transform import resize\n",
    "import numpy as np"
   ]
  },
  {
   "cell_type": "markdown",
   "id": "overall-romania",
   "metadata": {},
   "source": [
    "Initialisation"
   ]
  },
  {
   "cell_type": "code",
   "execution_count": 7,
   "id": "derived-mattress",
   "metadata": {},
   "outputs": [
    {
     "name": "stdout",
     "output_type": "stream",
     "text": [
      "{'P1_REVISION': 1, 'RAM': '4096M, 2048M', 'REVISION': 'Unknown', 'TYPE': 'Jetson Nano', 'MANUFACTURER': 'NVIDIA', 'PROCESSOR': 'ARM A57'}\n",
      "Initilising Line Following Jetbot\n"
     ]
    },
    {
     "name": "stderr",
     "output_type": "stream",
     "text": [
      "/usr/local/lib/python3.6/dist-packages/Jetson/GPIO/gpio.py:386: RuntimeWarning: This channel is already in use, continuing anyway. Use GPIO.setwarnings(False) to disable warnings\n",
      "  RuntimeWarning)\n"
     ]
    }
   ],
   "source": [
    "# Initialise line following\n",
    "lfrobot.lfInit()"
   ]
  },
  {
   "cell_type": "code",
   "execution_count": 8,
   "id": "native-mailing",
   "metadata": {},
   "outputs": [],
   "source": [
    "# Initialise camera\n",
    "camera = Camera.instance(width=224, height=224)\n",
    "image = widgets.Image(format='jpeg', width=224, height=224)  # this width and height doesn't necessarily have to match the camera\n",
    "camera_link = traitlets.dlink((camera, 'value'), (image, 'value'), transform=bgr8_to_jpeg)"
   ]
  },
  {
   "cell_type": "code",
   "execution_count": 9,
   "id": "realistic-frame",
   "metadata": {},
   "outputs": [],
   "source": [
    "# Load sign detection model\n",
    "model = pickle.load(open('img_model.p','rb'))"
   ]
  },
  {
   "cell_type": "code",
   "execution_count": 83,
   "id": "guided-apple",
   "metadata": {},
   "outputs": [
    {
     "name": "stdout",
     "output_type": "stream",
     "text": [
      "stop\n"
     ]
    }
   ],
   "source": [
    "test_img = camera.value\n",
    "test_array = test_img.flatten()\n",
    "test_array = np.array([test_array])\n",
    "\n",
    "categories=['green','sheep', 'slow', 'stop', 'yellow']\n",
    "\n",
    "prediction = model.predict_proba(test_array)\n",
    "for i in prediction[0]:\n",
    "    if i > 0.75:\n",
    "        print('True')\n",
    "    else:\n",
    "        print('False')\n",
    "# print(categories[prediction[0]])"
   ]
  },
  {
   "cell_type": "markdown",
   "id": "moved-territory",
   "metadata": {},
   "source": [
    "Operation"
   ]
  },
  {
   "cell_type": "code",
   "execution_count": null,
   "id": "shaped-tradition",
   "metadata": {},
   "outputs": [],
   "source": [
    "## The robot starts in stopped mode\n",
    "## To start the robot motion\n",
    "lfrobot.lfStart()\n",
    "\n",
    "## To stop the robot\n",
    "lfrobot.lfStop()\n",
    "\n",
    "## To change the speed of the robot's forward motion\n",
    "#default speed = 0.15\n",
    "speed = 0.15 #speed should be between 0.1 to 0.15. Faster speeds can cause the robot to miss turns or overshoot\n",
    "\n",
    "lfrobot.lfSpeed(speed)\n",
    "\n",
    "## To change the speed of the robot's turning\n",
    "#default turn speed = 0.25\n",
    "turnSpeed = 0.25 #turn speeds between 0.15 and 0.25 work best\n",
    "lfrobot.lfTurnSpeed(turnSpeed)"
   ]
  },
  {
   "cell_type": "markdown",
   "id": "piano-contributor",
   "metadata": {},
   "source": [
    "Deinitialise"
   ]
  },
  {
   "cell_type": "code",
   "execution_count": 5,
   "id": "contrary-anniversary",
   "metadata": {},
   "outputs": [
    {
     "name": "stdout",
     "output_type": "stream",
     "text": [
      "Deinitialised\n"
     ]
    }
   ],
   "source": [
    "lfrobot.lfDeinit()"
   ]
  }
 ],
 "metadata": {
  "kernelspec": {
   "display_name": "Python 3",
   "language": "python",
   "name": "python3"
  },
  "language_info": {
   "codemirror_mode": {
    "name": "ipython",
    "version": 3
   },
   "file_extension": ".py",
   "mimetype": "text/x-python",
   "name": "python",
   "nbconvert_exporter": "python",
   "pygments_lexer": "ipython3",
   "version": "3.6.9"
  }
 },
 "nbformat": 4,
 "nbformat_minor": 5
}
