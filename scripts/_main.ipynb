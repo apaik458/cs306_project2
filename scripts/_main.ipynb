{
 "cells": [
  {
   "cell_type": "markdown",
   "id": "greek-delhi",
   "metadata": {},
   "source": [
    "# Main Robot Script"
   ]
  },
  {
   "cell_type": "markdown",
   "id": "rocky-commission",
   "metadata": {},
   "source": [
    "Imports"
   ]
  },
  {
   "cell_type": "code",
   "execution_count": 1,
   "id": "recovered-certification",
   "metadata": {},
   "outputs": [],
   "source": [
    "# Line following\n",
    "import lfrobot\n",
    "\n",
    "# Camera\n",
    "import traitlets\n",
    "import ipywidgets.widgets as widgets\n",
    "from jetbot import Camera, bgr8_to_jpeg\n",
    "\n",
    "# Model\n",
    "import numpy as np\n",
    "import pickle\n",
    "import time\n",
    "from IPython.display import clear_output"
   ]
  },
  {
   "cell_type": "markdown",
   "id": "ready-parent",
   "metadata": {},
   "source": [
    "Initialisation"
   ]
  },
  {
   "cell_type": "code",
   "execution_count": null,
   "id": "thermal-butler",
   "metadata": {},
   "outputs": [
    {
     "name": "stdout",
     "output_type": "stream",
     "text": [
      "{'P1_REVISION': 1, 'RAM': '4096M, 2048M', 'REVISION': 'Unknown', 'TYPE': 'Jetson Nano', 'MANUFACTURER': 'NVIDIA', 'PROCESSOR': 'ARM A57'}\n",
      "Initilising Line Following Jetbot\n"
     ]
    },
    {
     "name": "stderr",
     "output_type": "stream",
     "text": [
      "/usr/local/lib/python3.6/dist-packages/Jetson/GPIO/gpio.py:386: RuntimeWarning: This channel is already in use, continuing anyway. Use GPIO.setwarnings(False) to disable warnings\n",
      "  RuntimeWarning)\n"
     ]
    },
    {
     "name": "stdout",
     "output_type": "stream",
     "text": [
      "\n",
      "Line following initialised\n"
     ]
    },
    {
     "data": {
      "application/vnd.jupyter.widget-view+json": {
       "model_id": "d23e7b399eaf441e91b2ea8c8a221152",
       "version_major": 2,
       "version_minor": 0
      },
      "text/plain": [
       "Image(value=b'\\xff\\xd8\\xff\\xe0\\x00\\x10JFIF\\x00\\x01\\x01\\x00\\x00\\x01\\x00\\x01\\x00\\x00\\xff\\xdb\\x00C\\x00\\x02\\x01\\x0…"
      ]
     },
     "metadata": {},
     "output_type": "display_data"
    },
    {
     "name": "stdout",
     "output_type": "stream",
     "text": [
      "Camera initialised\n"
     ]
    }
   ],
   "source": [
    "# Initialise line following\n",
    "lfrobot.lfInit()\n",
    "print('\\nLine following initialised')\n",
    "\n",
    "# Initialise camera\n",
    "camera = Camera.instance(width=224, height=224)\n",
    "image = widgets.Image(format='jpeg', width=224, height=224)  # this width and height doesn't necessarily have to match the camera\n",
    "camera_link = traitlets.dlink((camera, 'value'), (image, 'value'), transform=bgr8_to_jpeg)\n",
    "display(image)\n",
    "print('Camera initialised')\n",
    "\n",
    "# Load sign detection model\n",
    "model = pickle.load(open('img_model.p','rb'))\n",
    "print('Sign detection model loaded')"
   ]
  },
  {
   "cell_type": "markdown",
   "id": "provincial-counter",
   "metadata": {},
   "source": [
    "Operation"
   ]
  },
  {
   "cell_type": "code",
   "execution_count": 3,
   "id": "immediate-bride",
   "metadata": {},
   "outputs": [
    {
     "ename": "KeyboardInterrupt",
     "evalue": "",
     "output_type": "error",
     "traceback": [
      "\u001b[0;31m\u001b[0m",
      "\u001b[0;31mKeyboardInterrupt\u001b[0mTraceback (most recent call last)",
      "\u001b[0;32m<ipython-input-3-7711d07185ba>\u001b[0m in \u001b[0;36m<module>\u001b[0;34m\u001b[0m\n\u001b[1;32m     30\u001b[0m \u001b[0;34m\u001b[0m\u001b[0m\n\u001b[1;32m     31\u001b[0m     \u001b[0mclear_output\u001b[0m\u001b[0;34m(\u001b[0m\u001b[0mwait\u001b[0m\u001b[0;34m=\u001b[0m\u001b[0;32mTrue\u001b[0m\u001b[0;34m)\u001b[0m\u001b[0;34m\u001b[0m\u001b[0;34m\u001b[0m\u001b[0m\n\u001b[0;32m---> 32\u001b[0;31m     \u001b[0mtime\u001b[0m\u001b[0;34m.\u001b[0m\u001b[0msleep\u001b[0m\u001b[0;34m(\u001b[0m\u001b[0;36m0.1\u001b[0m\u001b[0;34m)\u001b[0m\u001b[0;34m\u001b[0m\u001b[0;34m\u001b[0m\u001b[0m\n\u001b[0m",
      "\u001b[0;31mKeyboardInterrupt\u001b[0m: "
     ]
    }
   ],
   "source": [
    "# lfrobot.lfStart()\n",
    "# turnSpeed = 0.25 #turn speeds between 0.15 and 0.25 work best\n",
    "# lfrobot.lfTurnSpeed(turnSpeed)\n",
    "\n",
    "categories=['green','sheep', 'slow', 'stop', 'yellow']\n",
    "\n",
    "while True:\n",
    "    ## CAMERA INPUT\n",
    "    test_img = camera.value\n",
    "    test_array = test_img.flatten()\n",
    "    test_array = np.array([test_array])\n",
    "    \n",
    "    ## PREDICTION\n",
    "    prediction = model.predict_proba(test_array)[0]    # prediction vector\n",
    "    prediction_index = (prediction > 0.75).nonzero()[0]   # indices of high confidence classes\n",
    "\n",
    "    ## ACTION\n",
    "    if 1 in prediction_index:   # sheep\n",
    "        print('sheep')\n",
    "    elif 0 in prediction_index: # green\n",
    "        print('green')\n",
    "    elif 2 in prediction_index: # slow\n",
    "        print('slow')\n",
    "    elif 3 in prediction_index: # stop\n",
    "        print('stop')\n",
    "    elif 4 in prediction_index: # yellow\n",
    "        print('yellow')\n",
    "    else:                       # free\n",
    "        print('free')\n",
    "    \n",
    "    clear_output(wait=True)\n",
    "    time.sleep(0.1)\n"
   ]
  },
  {
   "cell_type": "code",
   "execution_count": 1,
   "id": "collaborative-depth",
   "metadata": {},
   "outputs": [
    {
     "ename": "NameError",
     "evalue": "name 'lfrobot' is not defined",
     "output_type": "error",
     "traceback": [
      "\u001b[0;31m\u001b[0m",
      "\u001b[0;31mNameError\u001b[0mTraceback (most recent call last)",
      "\u001b[0;32m<ipython-input-1-0640a6ea5f34>\u001b[0m in \u001b[0;36m<module>\u001b[0;34m\u001b[0m\n\u001b[0;32m----> 1\u001b[0;31m \u001b[0mlfrobot\u001b[0m\u001b[0;34m.\u001b[0m\u001b[0mlfStart\u001b[0m\u001b[0;34m(\u001b[0m\u001b[0;34m)\u001b[0m\u001b[0;34m\u001b[0m\u001b[0;34m\u001b[0m\u001b[0m\n\u001b[0m\u001b[1;32m      2\u001b[0m \u001b[0mturnSpeed\u001b[0m \u001b[0;34m=\u001b[0m \u001b[0;36m0.25\u001b[0m \u001b[0;31m#turn speeds between 0.15 and 0.25 work best\u001b[0m\u001b[0;34m\u001b[0m\u001b[0;34m\u001b[0m\u001b[0m\n\u001b[1;32m      3\u001b[0m \u001b[0mlfrobot\u001b[0m\u001b[0;34m.\u001b[0m\u001b[0mlfTurnSpeed\u001b[0m\u001b[0;34m(\u001b[0m\u001b[0mturnSpeed\u001b[0m\u001b[0;34m)\u001b[0m\u001b[0;34m\u001b[0m\u001b[0;34m\u001b[0m\u001b[0m\n\u001b[1;32m      4\u001b[0m \u001b[0;34m\u001b[0m\u001b[0m\n\u001b[1;32m      5\u001b[0m \u001b[0mcategories\u001b[0m\u001b[0;34m=\u001b[0m\u001b[0;34m[\u001b[0m\u001b[0;34m'green'\u001b[0m\u001b[0;34m,\u001b[0m\u001b[0;34m'sheep'\u001b[0m\u001b[0;34m,\u001b[0m \u001b[0;34m'slow'\u001b[0m\u001b[0;34m,\u001b[0m \u001b[0;34m'stop'\u001b[0m\u001b[0;34m,\u001b[0m \u001b[0;34m'yellow'\u001b[0m\u001b[0;34m]\u001b[0m\u001b[0;34m\u001b[0m\u001b[0;34m\u001b[0m\u001b[0m\n",
      "\u001b[0;31mNameError\u001b[0m: name 'lfrobot' is not defined"
     ]
    }
   ],
   "source": [
    "lfrobot.lfStart()\n",
    "turnSpeed = 0.25 #turn speeds between 0.15 and 0.25 work best\n",
    "lfrobot.lfTurnSpeed(turnSpeed)\n",
    "\n",
    "categories=['green','sheep', 'slow', 'stop', 'yellow']\n",
    "current_speed = 0.1\n",
    "\n",
    "while True:\n",
    "    ## CAMERA INPUT\n",
    "    test_img = camera.value\n",
    "    test_array = test_img.flatten()\n",
    "    test_array = np.array([test_array])\n",
    "    \n",
    "    ## PREDICTION\n",
    "    prediction = model.predict_proba(test_array)[0]    # prediction vector\n",
    "    prediction_index = (prediction > 0.75).nonzero()   # indices of high confidence classes\n",
    "\n",
    "    ## ACTION\n",
    "    if 1 in prediction_index:     # sheep\n",
    "        lfrobot.lfStop()\n",
    "    elif 0 in prediction_index:   # green\n",
    "        pass\n",
    "    elif 2 in prediction_index:   # slow\n",
    "        current_speed = 0.05\n",
    "        lfrobot.lfSpeed(current_speed)\n",
    "    elif 3 in prediction_index:   # stop\n",
    "        lfrobot.lfStop()\n",
    "        time.sleep(5)\n",
    "        current_speed = 0.1\n",
    "        lfrobot.lfSpeed(current_speed)\n",
    "        time.sleep(2)\n",
    "    elif 4 in prediction_index:   # yellow\n",
    "        lfrobot.lfStop()\n",
    "    else:                         # free\n",
    "        lfrobot.lfSpeed(current_speed)\n",
    "    \n",
    "    time.sleep(0.01)\n"
   ]
  },
  {
   "cell_type": "markdown",
   "id": "allied-deposit",
   "metadata": {},
   "source": [
    "Merged the Above two cells"
   ]
  },
  {
   "cell_type": "code",
   "execution_count": null,
   "id": "preceding-large",
   "metadata": {},
   "outputs": [
    {
     "ename": "KeyboardInterrupt",
     "evalue": "",
     "output_type": "error",
     "traceback": [
      "\u001b[0;31m\u001b[0m",
      "\u001b[0;31mKeyboardInterrupt\u001b[0mTraceback (most recent call last)",
      "\u001b[0;32m<ipython-input-8-5943cceed0e8>\u001b[0m in \u001b[0;36m<module>\u001b[0;34m\u001b[0m\n\u001b[1;32m     52\u001b[0m \u001b[0;34m\u001b[0m\u001b[0m\n\u001b[1;32m     53\u001b[0m     \u001b[0mclear_output\u001b[0m\u001b[0;34m(\u001b[0m\u001b[0mwait\u001b[0m\u001b[0;34m=\u001b[0m\u001b[0;32mTrue\u001b[0m\u001b[0;34m)\u001b[0m\u001b[0;34m\u001b[0m\u001b[0;34m\u001b[0m\u001b[0m\n\u001b[0;32m---> 54\u001b[0;31m     \u001b[0mtime\u001b[0m\u001b[0;34m.\u001b[0m\u001b[0msleep\u001b[0m\u001b[0;34m(\u001b[0m\u001b[0;36m0.1\u001b[0m\u001b[0;34m)\u001b[0m\u001b[0;34m\u001b[0m\u001b[0;34m\u001b[0m\u001b[0m\n\u001b[0m",
      "\u001b[0;31mKeyboardInterrupt\u001b[0m: "
     ]
    }
   ],
   "source": [
    "lfrobot.lfStart()\n",
    "lfrobot.lfSpeed(0.1)\n",
    "turnSpeed = 0.25 #turn speeds between 0.15 and 0.25 work best\n",
    "lfrobot.lfTurnSpeed(turnSpeed)\n",
    "\n",
    "categories=['green','sheep', 'slow', 'stop', 'yellow']\n",
    "current_speed = 0.1\n",
    "\n",
    "# Using Variabls to store the state\n",
    "slowState = False\n",
    "stopState = False\n",
    "\n",
    "\n",
    "\n",
    "while True:\n",
    "    ## CAMERA INPUT\n",
    "    test_img = camera.value\n",
    "    test_array = test_img.flatten()\n",
    "    test_array = np.array([test_array])\n",
    "    \n",
    "    ## PREDICTION\n",
    "    prediction = model.predict_proba(test_array)[0]    # prediction vector\n",
    "    prediction_index = (prediction > 0.75).nonzero()[0]   # indices of high confidence classes\n",
    "\n",
    "    ## ACTION\n",
    "    if 1 in prediction_index:   # sheep\n",
    "        print('sheep')\n",
    "        lfrobot.lfStop()\n",
    "    elif 0 in prediction_index: # green\n",
    "        print('green')\n",
    "        pass\n",
    "    elif 2 in prediction_index: # slow\n",
    "        print('slow')\n",
    "        slowState = True\n",
    "        stopState = False\n",
    "    elif 3 in prediction_index: # stop\n",
    "        print('stop')\n",
    "        stopState = True\n",
    "        lfrobot.lfStop()\n",
    "        time.sleep(5)\n",
    "        lfrobot.lfSpeed(0.1)    \n",
    "        time.sleep(1)\n",
    "    elif 4 in prediction_index: # yellow\n",
    "        print('yellow')\n",
    "        lfrobot.lfStop()\n",
    "    else:                       # free\n",
    "        print('free')\n",
    "        if slowState == True and stopState == False:\n",
    "            lfrobot.lfSpeed(0.05)\n",
    "            pass\n",
    "        \n",
    "        lfrobot.lfSpeed(0.1)\n",
    "    \n",
    "    clear_output(wait=True)\n",
    "    time.sleep(0.1)"
   ]
  },
  {
   "cell_type": "markdown",
   "id": "chinese-helena",
   "metadata": {},
   "source": [
    "Deinitialise"
   ]
  },
  {
   "cell_type": "code",
   "execution_count": 5,
   "id": "industrial-cricket",
   "metadata": {},
   "outputs": [
    {
     "name": "stdout",
     "output_type": "stream",
     "text": [
      "Deinitialised\n"
     ]
    }
   ],
   "source": [
    "lfrobot.lfDeinit()"
   ]
  },
  {
   "cell_type": "code",
   "execution_count": 3,
   "id": "separate-relative",
   "metadata": {},
   "outputs": [],
   "source": [
    "camera_link.unlink()"
   ]
  },
  {
   "cell_type": "code",
   "execution_count": 13,
   "id": "polished-bedroom",
   "metadata": {},
   "outputs": [
    {
     "ename": "AttributeError",
     "evalue": "module 'lfrobot' has no attribute 'lfinit'",
     "output_type": "error",
     "traceback": [
      "\u001b[0;31m\u001b[0m",
      "\u001b[0;31mAttributeError\u001b[0mTraceback (most recent call last)",
      "\u001b[0;32m<ipython-input-13-9dbdcf62a7b2>\u001b[0m in \u001b[0;36m<module>\u001b[0;34m\u001b[0m\n\u001b[0;32m----> 1\u001b[0;31m \u001b[0mlfrobot\u001b[0m\u001b[0;34m.\u001b[0m\u001b[0mlfinit\u001b[0m\u001b[0;34m(\u001b[0m\u001b[0;34m)\u001b[0m\u001b[0;34m\u001b[0m\u001b[0;34m\u001b[0m\u001b[0m\n\u001b[0m",
      "\u001b[0;31mAttributeError\u001b[0m: module 'lfrobot' has no attribute 'lfinit'"
     ]
    }
   ],
   "source": [
    "lfrobot.lfinit()"
   ]
  }
 ],
 "metadata": {
  "kernelspec": {
   "display_name": "Python 3",
   "language": "python",
   "name": "python3"
  },
  "language_info": {
   "codemirror_mode": {
    "name": "ipython",
    "version": 3
   },
   "file_extension": ".py",
   "mimetype": "text/x-python",
   "name": "python",
   "nbconvert_exporter": "python",
   "pygments_lexer": "ipython3",
   "version": "3.6.9"
  }
 },
 "nbformat": 4,
 "nbformat_minor": 5
}
