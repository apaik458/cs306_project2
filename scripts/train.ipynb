{
 "cells": [
  {
   "cell_type": "markdown",
   "id": "8bdd01c8",
   "metadata": {},
   "source": [
    "Imports"
   ]
  },
  {
   "cell_type": "code",
   "execution_count": 1,
   "id": "d73b3a3f",
   "metadata": {},
   "outputs": [],
   "source": [
    "import os\n",
    "\n",
    "import matplotlib.pyplot as plt\n",
    "import numpy as np\n",
    "import pandas as pd\n",
    "\n",
    "from sklearn.model_selection import train_test_split\n",
    "from sklearn.linear_model import LogisticRegression\n",
    "from skimage.io import imread\n",
    "from sklearn.metrics import classification_report,accuracy_score,confusion_matrix\n",
    "\n",
    "import pickle"
   ]
  },
  {
   "cell_type": "markdown",
   "id": "68884ba1",
   "metadata": {},
   "source": [
    "Load Dataset"
   ]
  },
  {
   "cell_type": "code",
   "execution_count": 2,
   "id": "3a3e30fa",
   "metadata": {},
   "outputs": [
    {
     "name": "stdout",
     "output_type": "stream",
     "text": [
      "loading... category : green\n",
      "loaded category:green successfully\n",
      "loading... category : sheep\n",
      "loaded category:sheep successfully\n",
      "loading... category : slow\n",
      "loaded category:slow successfully\n",
      "loading... category : stop\n",
      "loaded category:stop successfully\n",
      "loading... category : yellow\n",
      "loaded category:yellow successfully\n"
     ]
    }
   ],
   "source": [
    "datadir='dataset/'\n",
    "Categories=['green','sheep', 'slow', 'stop', 'yellow']\n",
    "\n",
    "flat_data_arr=[]\n",
    "target_arr=[]\n",
    "\n",
    "for i in Categories:\n",
    "  print(f'loading... category : {i}')\n",
    "  path=os.path.join(datadir,i)\n",
    "  for img in os.listdir(path):\n",
    "    img_array=imread(os.path.join(path,img))\n",
    "    flat_data_arr.append(img_array.flatten())\n",
    "    target_arr.append(Categories.index(i))\n",
    "  print(f'loaded category:{i} successfully')\n",
    "flat_data=np.array(flat_data_arr)\n",
    "target=np.array(target_arr)"
   ]
  },
  {
   "cell_type": "code",
   "execution_count": 3,
   "id": "bef002de",
   "metadata": {},
   "outputs": [],
   "source": [
    "df=pd.DataFrame(flat_data)\n",
    "df['Target']=target"
   ]
  },
  {
   "cell_type": "code",
   "execution_count": 4,
   "id": "017ee93a",
   "metadata": {},
   "outputs": [],
   "source": [
    "x=df.iloc[:,:-1]\n",
    "y=df.iloc[:,-1]\n",
    "x_train,x_test,y_train,y_test=train_test_split(x,y,test_size=0.20,random_state=77,stratify=y)"
   ]
  },
  {
   "cell_type": "markdown",
   "id": "e468c02e",
   "metadata": {},
   "source": [
    "Configure Model"
   ]
  },
  {
   "cell_type": "code",
   "execution_count": 5,
   "id": "c9d3e853",
   "metadata": {},
   "outputs": [],
   "source": [
    "# define the multinomial logistic regression model\n",
    "model = LogisticRegression(multi_class='multinomial', solver='lbfgs')"
   ]
  },
  {
   "cell_type": "markdown",
   "id": "dfd5e9be",
   "metadata": {},
   "source": [
    "Train Model"
   ]
  },
  {
   "cell_type": "code",
   "execution_count": 6,
   "id": "bf4a12bd",
   "metadata": {},
   "outputs": [
    {
     "data": {
      "text/plain": [
       "LogisticRegression(multi_class='multinomial')"
      ]
     },
     "execution_count": 6,
     "metadata": {},
     "output_type": "execute_result"
    }
   ],
   "source": [
    "model.fit(x, y)"
   ]
  },
  {
   "cell_type": "code",
   "execution_count": 7,
   "id": "1f55b1fc",
   "metadata": {},
   "outputs": [
    {
     "name": "stdout",
     "output_type": "stream",
     "text": [
      "The models is 100.0% accurate\n"
     ]
    }
   ],
   "source": [
    "y_pred=model.predict(x_test)\n",
    "print(f\"The models is {accuracy_score(y_pred,y_test)*100}% accurate\")"
   ]
  },
  {
   "cell_type": "code",
   "execution_count": 9,
   "id": "688201ad",
   "metadata": {},
   "outputs": [],
   "source": [
    "pickle.dump(model,open('img_model.p','wb'))"
   ]
  }
 ],
 "metadata": {
  "kernelspec": {
   "display_name": "data_aug_env",
   "language": "python",
   "name": "python3"
  },
  "language_info": {
   "codemirror_mode": {
    "name": "ipython",
    "version": 3
   },
   "file_extension": ".py",
   "mimetype": "text/x-python",
   "name": "python",
   "nbconvert_exporter": "python",
   "pygments_lexer": "ipython3",
   "version": "3.6.9"
  }
 },
 "nbformat": 4,
 "nbformat_minor": 5
}
