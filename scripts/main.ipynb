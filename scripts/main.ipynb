{
 "cells": [
  {
   "cell_type": "markdown",
   "id": "directed-flush",
   "metadata": {},
   "source": [
    "# Main Robot Script"
   ]
  },
  {
   "cell_type": "markdown",
   "id": "brutal-values",
   "metadata": {},
   "source": [
    "Imports"
   ]
  },
  {
   "cell_type": "code",
   "execution_count": null,
   "id": "paperback-hayes",
   "metadata": {},
   "outputs": [],
   "source": [
    "# Line following\n",
    "import lfrobot\n",
    "\n",
    "# Camera\n",
    "import traitlets\n",
    "import ipywidgets.widgets as widgets\n",
    "from jetbot import Camera, bgr8_to_jpeg\n",
    "\n",
    "# Model\n",
    "import numpy as np\n",
    "import pickle\n",
    "import time\n",
    "from IPython.display import clear_output"
   ]
  },
  {
   "cell_type": "markdown",
   "id": "overall-romania",
   "metadata": {},
   "source": [
    "Initialisation"
   ]
  },
  {
   "cell_type": "code",
   "execution_count": null,
   "id": "derived-mattress",
   "metadata": {},
   "outputs": [],
   "source": [
    "# Initialise line following\n",
    "lfrobot.lfInit()\n",
    "print('\\nLine following initialised')\n",
    "\n",
    "# Initialise camera\n",
    "camera = Camera.instance(width=224, height=224)\n",
    "image = widgets.Image(format='jpeg', width=224, height=224)  # this width and height doesn't necessarily have to match the camera\n",
    "camera_link = traitlets.dlink((camera, 'value'), (image, 'value'), transform=bgr8_to_jpeg)\n",
    "print('Camera initialised')\n",
    "\n",
    "# Load sign detection model\n",
    "model = pickle.load(open('img_model.p','rb'))\n",
    "print('Sign detection model loaded')"
   ]
  },
  {
   "cell_type": "markdown",
   "id": "f19acc62",
   "metadata": {},
   "source": [
    "Operation"
   ]
  },
  {
   "cell_type": "code",
   "execution_count": null,
   "id": "guided-apple",
   "metadata": {},
   "outputs": [],
   "source": [
    "# Without actions\n",
    "\n",
    "lfrobot.lfStart()\n",
    "turnSpeed = 0.25 #turn speeds between 0.15 and 0.25 work best\n",
    "lfrobot.lfTurnSpeed(turnSpeed)\n",
    "\n",
    "categories=['green','sheep', 'slow', 'stop', 'yellow']\n",
    "\n",
    "while True:\n",
    "    ## CAMERA INPUT\n",
    "    test_img = camera.value\n",
    "    test_array = test_img.flatten()\n",
    "    test_array = np.array([test_array])\n",
    "    \n",
    "    ## PREDICTION\n",
    "    prediction = model.predict_proba(test_array)[0]    # prediction vector\n",
    "    prediction_index = (prediction > 0.75).nonzero()   # indices of high confidence classes\n",
    "\n",
    "    ## ACTION\n",
    "    if 1 in prediction_index:     # sheep\n",
    "        print('sheep')\n",
    "    elif 0 in prediction_index:   # green\n",
    "        print('green')\n",
    "    elif 2 in prediction_index:   # slow\n",
    "        print('slow')\n",
    "    elif 3 in prediction_index:   # stop\n",
    "        print('stop')\n",
    "    elif 4 in prediction_index:   # yellow\n",
    "        print('yellow')\n",
    "    else:                         # free\n",
    "        print('free')\n",
    "    \n",
    "    clear_output(wait=True)\n",
    "    time.sleep(0.1)\n"
   ]
  },
  {
   "cell_type": "code",
   "execution_count": null,
   "id": "shaped-tradition",
   "metadata": {},
   "outputs": [],
   "source": [
    "# With actions\n",
    "\n",
    "lfrobot.lfStart()\n",
    "turnSpeed = 0.25 #turn speeds between 0.15 and 0.25 work best\n",
    "lfrobot.lfTurnSpeed(turnSpeed)\n",
    "\n",
    "categories=['green','sheep', 'slow', 'stop', 'yellow']\n",
    "current_speed = 0.1\n",
    "\n",
    "while True:\n",
    "    ## CAMERA INPUT\n",
    "    test_img = camera.value\n",
    "    test_array = test_img.flatten()\n",
    "    test_array = np.array([test_array])\n",
    "    \n",
    "    ## PREDICTION\n",
    "    prediction = model.predict_proba(test_array)[0]    # prediction vector\n",
    "    prediction_index = (prediction > 0.75).nonzero()   # indices of high confidence classes\n",
    "\n",
    "    ## ACTION\n",
    "    if 1 in prediction_index:     # sheep\n",
    "        lfrobot.lfStop()\n",
    "    elif 0 in prediction_index:   # green\n",
    "        pass\n",
    "    elif 2 in prediction_index:   # slow\n",
    "        current_speed = 0.05\n",
    "        lfrobot.lfSpeed(current_speed)\n",
    "    elif 3 in prediction_index:   # stop\n",
    "        lfrobot.lfStop()\n",
    "        time.sleep(5)\n",
    "        current_speed = 0.1\n",
    "        lfrobot.lfSpeed(current_speed)\n",
    "        time.sleep(2)\n",
    "    elif 4 in prediction_index:   # yellow\n",
    "        lfrobot.lfStop()\n",
    "    else:                         # free\n",
    "        lfrobot.lfSpeed(current_speed)\n",
    "    \n",
    "    time.sleep_ms(10)\n"
   ]
  },
  {
   "cell_type": "markdown",
   "id": "piano-contributor",
   "metadata": {},
   "source": [
    "Deinitialise"
   ]
  },
  {
   "cell_type": "code",
   "execution_count": null,
   "id": "contrary-anniversary",
   "metadata": {},
   "outputs": [],
   "source": [
    "lfrobot.lfDeinit()"
   ]
  }
 ],
 "metadata": {
  "kernelspec": {
   "display_name": "Python 3",
   "language": "python",
   "name": "python3"
  },
  "language_info": {
   "codemirror_mode": {
    "name": "ipython",
    "version": 3
   },
   "file_extension": ".py",
   "mimetype": "text/x-python",
   "name": "python",
   "nbconvert_exporter": "python",
   "pygments_lexer": "ipython3",
   "version": "3.6.9"
  }
 },
 "nbformat": 4,
 "nbformat_minor": 5
}
