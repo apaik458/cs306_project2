{
 "cells": [
  {
   "cell_type": "markdown",
   "id": "1437b3b3",
   "metadata": {},
   "source": [
    "This file is for creating the dataset for testing"
   ]
  },
  {
   "cell_type": "code",
<<<<<<< Updated upstream
   "execution_count": 29,
=======
   "execution_count": 20,
>>>>>>> Stashed changes
   "id": "424d3ae7",
   "metadata": {},
   "outputs": [],
   "source": [
    "# Importing libraries\n",
    "import os\n",
    "import pickle\n",
    "import pandas as pd\n",
    "import numpy as np\n",
    "from skimage.transform import resize\n",
    "from skimage.io import imread"
   ]
  },
  {
   "cell_type": "code",
<<<<<<< Updated upstream
   "execution_count": 37,
=======
   "execution_count": 22,
   "id": "924ccd07",
   "metadata": {},
   "outputs": [
    {
     "name": "stdout",
     "output_type": "stream",
     "text": [
      "All files extracted from '..\\dataset\\dataset (2).zip' to '..\\dataset\\ExtractedSet'\n"
     ]
    }
   ],
   "source": [
    "#Unzipping the dataset to the ExtractedSet folder\n",
    "from zipfile import ZipFile\n",
    "\n",
    "# Input the dataset name here\n",
    "dataSetname = 'dataset (2).zip'\n",
    "# Specify the path to your zip file\n",
    "zip_file_path = os.path.join('..','dataset', dataSetname)\n",
    "# Specify the directory where you want to extract the contents\n",
    "extract_directory = os.path.join('..','dataset','ExtractedSet')\n",
    "\n",
    "with ZipFile(zip_file_path, 'r') as zip_object:\n",
    "    # Extract all the contents to the specified directory\n",
    "    zip_object.extractall(path=extract_directory)\n",
    "\n",
    "print(f\"All files extracted from '{zip_file_path}' to '{extract_directory}'\")"
   ]
  },
  {
   "cell_type": "code",
   "execution_count": 21,
>>>>>>> Stashed changes
   "id": "fa96e01b",
   "metadata": {},
   "outputs": [
    {
     "name": "stdout",
     "output_type": "stream",
     "text": [
<<<<<<< Updated upstream
      "c:\\Users\\makjo\\GithubPrograms\\cs306_project2\\Labeling\\DataSet1.csv\n",
      "Data label path: c:\\Users\\makjo\\GithubPrograms\\cs306_project2\\Labeling\\DataSet1.csv\n",
      "Data directory path: c:\\Users\\makjo\\GithubPrograms\\cs306_project2\\dataset\\ExtractedSet\\dataset\n"
=======
      "Data label path: c:\\Users\\makjo\\GithubPrograms\\cs306_project2\\ModelTesting\\Label.csv\n",
      "Data directory path: c:\\Users\\makjo\\GithubPrograms\\cs306_project2\\dataset\\ExtractedSet\\dataset\n",
      "Data directory exists: True\n"
>>>>>>> Stashed changes
     ]
    }
   ],
   "source": [
    "# Importing the Database (local machine)\n",
    "import os\n",
    "\n",
    "dataLabel = os.path.join('..','ModelTesting', 'Label.csv')  # Assumes Label.csv is in repo root\n",
    "dataDir = os.path.join('..', 'dataset', 'ExtractedSet', 'dataset')\n",
    "\n",
    "# Verify the paths exist\n",
    "print(f\"Data label path: {os.path.abspath(dataLabel)}\")\n",
    "print(f\"Data directory path: {os.path.abspath(dataDir)}\")\n",
    "print(f\"Data directory exists: {os.path.isdir(dataDir)}\")"
   ]
  },
  {
   "cell_type": "code",
<<<<<<< Updated upstream
   "execution_count": 33,
=======
   "execution_count": 23,
>>>>>>> Stashed changes
   "id": "0253eda5",
   "metadata": {},
   "outputs": [
    {
     "name": "stdout",
     "output_type": "stream",
     "text": [
      "loading... category : blocked\n",
      "loaded category 0 : blocked successfully\n",
      "loading... category : free\n",
      "loaded category 1 : free successfully\n",
      "loading... category : green\n",
      "loaded category 2 : green successfully\n",
      "loading... category : sheep\n",
      "loaded category 3 : sheep successfully\n",
      "loading... category : slow\n",
      "loaded category 4 : slow successfully\n",
      "loading... category : yellow\n",
      "loaded category 5 : yellow successfully\n",
      "Data Frame created \n",
      "          0         1         2         3         4         5         6  \\\n",
<<<<<<< Updated upstream
      "0  0.360784  0.215686  0.247059  0.368627  0.227451  0.266667  0.384314   \n",
      "1  0.325490  0.223529  0.227451  0.333333  0.231373  0.243137  0.356863   \n",
      "2  0.325490  0.223529  0.219608  0.313725  0.211765  0.223529  0.341176   \n",
      "3  0.325490  0.211765  0.227451  0.321569  0.207843  0.223529  0.337255   \n",
      "4  0.321569  0.196078  0.207843  0.325490  0.211765  0.219608  0.305882   \n",
      "\n",
      "          7         8         9  ...    150519    150520    150521    150522  \\\n",
      "0  0.250980  0.317647  0.400000  ...  0.274510  0.184314  0.215686  0.282353   \n",
      "1  0.258824  0.274510  0.392157  ...  0.274510  0.211765  0.223529  0.258824   \n",
      "2  0.235294  0.270588  0.368627  ...  0.266667  0.200000  0.223529  0.278431   \n",
      "3  0.215686  0.239216  0.352941  ...  0.282353  0.200000  0.227451  0.286275   \n",
      "4  0.207843  0.219608  0.333333  ...  0.278431  0.200000  0.235294  0.274510   \n",
      "\n",
      "     150523    150524    150525    150526    150527  Target  \n",
      "0  0.207843  0.231373  0.266667  0.207843  0.227451       0  \n",
      "1  0.200000  0.219608  0.266667  0.219608  0.235294       0  \n",
      "2  0.196078  0.231373  0.278431  0.196078  0.231373       0  \n",
      "3  0.207843  0.243137  0.282353  0.203922  0.239216       0  \n",
      "4  0.207843  0.239216  0.278431  0.211765  0.243137       0  \n",
=======
      "0  0.419608  0.313725  0.372549  0.439216  0.329412  0.384314  0.474510   \n",
      "1  0.415686  0.305882  0.364706  0.435294  0.313725  0.372549  0.454902   \n",
      "2  0.447059  0.329412  0.431373  0.517647  0.400000  0.501961  0.521569   \n",
      "3  0.317647  0.231373  0.282353  0.317647  0.231373  0.282353  0.325490   \n",
      "4  0.317647  0.223529  0.274510  0.333333  0.239216  0.290196  0.337255   \n",
      "\n",
      "          7         8         9  ...    150519    150520    150521    150522  \\\n",
      "0  0.329412  0.396078  0.486275  ...  0.317647  0.231373  0.278431  0.290196   \n",
      "1  0.333333  0.364706  0.466667  ...  0.325490  0.227451  0.301961  0.290196   \n",
      "2  0.403922  0.505882  0.509804  ...  0.325490  0.223529  0.274510  0.290196   \n",
      "3  0.239216  0.286275  0.333333  ...  0.294118  0.243137  0.278431  0.262745   \n",
      "4  0.243137  0.294118  0.349020  ...  0.317647  0.239216  0.274510  0.262745   \n",
      "\n",
      "     150523    150524    150525    150526    150527  Target  \n",
      "0  0.211765  0.258824  0.219608  0.149020  0.196078       0  \n",
      "1  0.207843  0.266667  0.235294  0.164706  0.219608       0  \n",
      "2  0.203922  0.250980  0.239216  0.160784  0.203922       0  \n",
      "3  0.219608  0.250980  0.207843  0.164706  0.196078       0  \n",
      "4  0.184314  0.227451  0.231373  0.160784  0.207843       0  \n",
>>>>>>> Stashed changes
      "\n",
      "[5 rows x 150529 columns]\n"
     ]
    }
   ],
   "source": [
    "# Mapping all the data to a catagory\n",
    "# Reading the labeling csv into a data frame\n",
    "labelDf = pd.read_csv(dataLabel)\n",
    "\n",
    "signCategories = labelDf.iloc[:, 1].tolist()\n",
    "signIndices = labelDf.iloc[:, 0].tolist()\n",
    "\n",
    "flat_data_arr = []\n",
    "target_arr = []\n",
    "\n",
    "# Mapping the index to the catogory\n",
    "signMap = dict(zip(signIndices, signCategories))\n",
    "\n",
    "# Flatting the images into an array\n",
    "for i in signIndices:\n",
    "  print(f'loading... category : {signMap[i]}')\n",
    "  path=os.path.join(dataDir, str(i))\n",
    "  for img in os.listdir(path):\n",
<<<<<<< Updated upstream
    "    img_array=imread(os.path.join(path,img))\n",
=======
    "\n",
    "    img_path = os.path.join(path, img)\n",
    "    # Skip folders - only process image files\n",
    "    if not os.path.isfile(img_path):\n",
    "      continue\n",
    "\n",
    "    img_array=imread(img_path)\n",
>>>>>>> Stashed changes
    "    img_array = np.squeeze(img_array)\n",
    "    # Testing if all images have the right amount of dimensions\n",
    "    # print(img_array.shape)\n",
    "    img_resized=resize(img_array,(224,224,3))\n",
    "    flat_data_arr.append(img_resized.flatten())\n",
    "    target_arr.append(i)\n",
    "  print(f'loaded category {i} : {signMap[i]} successfully')\n",
    "\n",
    "# Compiling the data frame for the training\n",
    "flat_data=np.array(flat_data_arr)\n",
    "target=np.array(target_arr)\n",
    "df=pd.DataFrame(flat_data)\n",
    "df['Target']=target\n",
    "print(\"Data Frame created \")\n",
    "print(df.head())"
   ]
  },
  {
   "cell_type": "code",
<<<<<<< Updated upstream
   "execution_count": 38,
=======
   "execution_count": 28,
>>>>>>> Stashed changes
   "id": "8822335c",
   "metadata": {},
   "outputs": [
    {
     "name": "stdout",
     "output_type": "stream",
     "text": [
      "DataFrame successfully saved to ./DataFrame/testdataframe.pkl\n"
     ]
    }
   ],
   "source": [
    "# Save DataFrame to a local file\n",
    "import pandas as pd\n",
    "import os\n",
    "\n",
    "# Create the directory if it doesn't exist\n",
    "FramePath = \"./DataFrame/testdataframe.pkl\"\n",
    "\n",
    "# Create the directory if it doesn't exist\n",
    "os.makedirs(os.path.dirname(FramePath), exist_ok=True)\n",
    "\n",
    "# Specify the local path where you want to save the file\n",
    "# Make sure you have write permissions to this directory\n",
    "\n",
    "try:\n",
<<<<<<< Updated upstream
    "    df.to_pickle(savePath)\n",
    "    print(f\"DataFrame successfully saved to {FramePath}\")\n",
    "except PermissionError:\n",
    "    print(f\"Permission denied: Unable to save the file to {save_path}. Please check the directory path and your file permissions.\")\n",
=======
    "    df.to_pickle(FramePath)\n",
    "    print(f\"DataFrame successfully saved to {FramePath}\")\n",
    "except PermissionError:\n",
    "    print(f\"Permission denied: Unable to save the file to {FramePath}. Please check the directory path and your file permissions.\")\n",
>>>>>>> Stashed changes
    "except Exception as e:\n",
    "    print(f\"An error occurred: {e}\")"
   ]
  }
 ],
 "metadata": {
  "kernelspec": {
   "display_name": "Python 3",
   "language": "python",
   "name": "python3"
  },
  "language_info": {
   "codemirror_mode": {
    "name": "ipython",
    "version": 3
   },
   "file_extension": ".py",
   "mimetype": "text/x-python",
   "name": "python",
   "nbconvert_exporter": "python",
   "pygments_lexer": "ipython3",
   "version": "3.13.8"
  }
 },
 "nbformat": 4,
 "nbformat_minor": 5
}
