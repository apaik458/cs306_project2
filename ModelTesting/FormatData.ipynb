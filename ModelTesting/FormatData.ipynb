{
 "cells": [
  {
   "cell_type": "markdown",
   "id": "1437b3b3",
   "metadata": {},
   "source": [
    "This file is for creating the dataset for testing"
   ]
  },
  {
   "cell_type": "code",
   "execution_count": 29,
   "id": "424d3ae7",
   "metadata": {},
   "outputs": [],
   "source": [
    "# Importing libraries\n",
    "import os\n",
    "import pickle\n",
    "import pandas as pd\n",
    "import numpy as np\n",
    "from skimage.transform import resize\n",
    "from skimage.io import imread"
   ]
  },
  {
   "cell_type": "code",
   "execution_count": 37,
   "id": "fa96e01b",
   "metadata": {},
   "outputs": [
    {
     "name": "stdout",
     "output_type": "stream",
     "text": [
      "c:\\Users\\makjo\\GithubPrograms\\cs306_project2\\Labeling\\DataSet1.csv\n",
      "Data label path: c:\\Users\\makjo\\GithubPrograms\\cs306_project2\\Labeling\\DataSet1.csv\n",
      "Data directory path: c:\\Users\\makjo\\GithubPrograms\\cs306_project2\\dataset\\ExtractedSet\\dataset\n"
     ]
    }
   ],
   "source": [
    "# Importing the Database (local machine)\n",
    "import os\n",
    "\n",
    "dataLabel = os.path.join('..','ModelTesting', 'Label.csv')  # Assumes Label.csv is in repo root\n",
    "dataDir = os.path.join('..', 'dataset', 'ExtractedSet', 'dataset')\n",
    "\n",
    "# Verify the paths exist\n",
    "print(f\"Data label path: {os.path.abspath(dataLabel)}\")\n",
    "print(f\"Data directory path: {os.path.abspath(dataDir)}\")\n",
    "print(f\"Data directory exists: {os.path.isdir(dataDir)}\")"
   ]
  },
  {
   "cell_type": "code",
   "execution_count": 33,
   "id": "0253eda5",
   "metadata": {},
   "outputs": [
    {
     "name": "stdout",
     "output_type": "stream",
     "text": [
      "loading... category : blocked\n",
      "loaded category 0 : blocked successfully\n",
      "loading... category : free\n",
      "loaded category 1 : free successfully\n",
      "loading... category : green\n",
      "loaded category 2 : green successfully\n",
      "loading... category : sheep\n",
      "loaded category 3 : sheep successfully\n",
      "loading... category : slow\n",
      "loaded category 4 : slow successfully\n",
      "loading... category : yellow\n",
      "loaded category 5 : yellow successfully\n",
      "Data Frame created \n",
      "          0         1         2         3         4         5         6  \\\n",
      "0  0.360784  0.215686  0.247059  0.368627  0.227451  0.266667  0.384314   \n",
      "1  0.325490  0.223529  0.227451  0.333333  0.231373  0.243137  0.356863   \n",
      "2  0.325490  0.223529  0.219608  0.313725  0.211765  0.223529  0.341176   \n",
      "3  0.325490  0.211765  0.227451  0.321569  0.207843  0.223529  0.337255   \n",
      "4  0.321569  0.196078  0.207843  0.325490  0.211765  0.219608  0.305882   \n",
      "\n",
      "          7         8         9  ...    150519    150520    150521    150522  \\\n",
      "0  0.250980  0.317647  0.400000  ...  0.274510  0.184314  0.215686  0.282353   \n",
      "1  0.258824  0.274510  0.392157  ...  0.274510  0.211765  0.223529  0.258824   \n",
      "2  0.235294  0.270588  0.368627  ...  0.266667  0.200000  0.223529  0.278431   \n",
      "3  0.215686  0.239216  0.352941  ...  0.282353  0.200000  0.227451  0.286275   \n",
      "4  0.207843  0.219608  0.333333  ...  0.278431  0.200000  0.235294  0.274510   \n",
      "\n",
      "     150523    150524    150525    150526    150527  Target  \n",
      "0  0.207843  0.231373  0.266667  0.207843  0.227451       0  \n",
      "1  0.200000  0.219608  0.266667  0.219608  0.235294       0  \n",
      "2  0.196078  0.231373  0.278431  0.196078  0.231373       0  \n",
      "3  0.207843  0.243137  0.282353  0.203922  0.239216       0  \n",
      "4  0.207843  0.239216  0.278431  0.211765  0.243137       0  \n",
      "\n",
      "[5 rows x 150529 columns]\n"
     ]
    }
   ],
   "source": [
    "# Mapping all the data to a catagory\n",
    "# Reading the labeling csv into a data frame\n",
    "labelDf = pd.read_csv(dataLabel)\n",
    "\n",
    "signCategories = labelDf.iloc[:, 1].tolist()\n",
    "signIndices = labelDf.iloc[:, 0].tolist()\n",
    "\n",
    "flat_data_arr = []\n",
    "target_arr = []\n",
    "\n",
    "# Mapping the index to the catogory\n",
    "signMap = dict(zip(signIndices, signCategories))\n",
    "\n",
    "# Flatting the images into an array\n",
    "for i in signIndices:\n",
    "  print(f'loading... category : {signMap[i]}')\n",
    "  path=os.path.join(dataDir, str(i))\n",
    "  for img in os.listdir(path):\n",
    "    img_array=imread(os.path.join(path,img))\n",
    "    img_array = np.squeeze(img_array)\n",
    "    # Testing if all images have the right amount of dimensions\n",
    "    # print(img_array.shape)\n",
    "    img_resized=resize(img_array,(224,224,3))\n",
    "    flat_data_arr.append(img_resized.flatten())\n",
    "    target_arr.append(i)\n",
    "  print(f'loaded category {i} : {signMap[i]} successfully')\n",
    "\n",
    "# Compiling the data frame for the training\n",
    "flat_data=np.array(flat_data_arr)\n",
    "target=np.array(target_arr)\n",
    "df=pd.DataFrame(flat_data)\n",
    "df['Target']=target\n",
    "print(\"Data Frame created \")\n",
    "print(df.head())"
   ]
  },
  {
   "cell_type": "code",
   "execution_count": 38,
   "id": "8822335c",
   "metadata": {},
   "outputs": [
    {
     "name": "stdout",
     "output_type": "stream",
     "text": [
      "DataFrame successfully saved to ./DataFrame/testdataframe.pkl\n"
     ]
    }
   ],
   "source": [
    "# Save DataFrame to a local file\n",
    "import pandas as pd\n",
    "import os\n",
    "\n",
    "# Create the directory if it doesn't exist\n",
    "FramePath = \"./DataFrame/testdataframe.pkl\"\n",
    "\n",
    "# Create the directory if it doesn't exist\n",
    "os.makedirs(os.path.dirname(FramePath), exist_ok=True)\n",
    "\n",
    "# Specify the local path where you want to save the file\n",
    "# Make sure you have write permissions to this directory\n",
    "\n",
    "try:\n",
    "    df.to_pickle(savePath)\n",
    "    print(f\"DataFrame successfully saved to {FramePath}\")\n",
    "except PermissionError:\n",
    "    print(f\"Permission denied: Unable to save the file to {save_path}. Please check the directory path and your file permissions.\")\n",
    "except Exception as e:\n",
    "    print(f\"An error occurred: {e}\")"
   ]
  }
 ],
 "metadata": {
  "kernelspec": {
   "display_name": "Python 3",
   "language": "python",
   "name": "python3"
  },
  "language_info": {
   "codemirror_mode": {
    "name": "ipython",
    "version": 3
   },
   "file_extension": ".py",
   "mimetype": "text/x-python",
   "name": "python",
   "nbconvert_exporter": "python",
   "pygments_lexer": "ipython3",
   "version": "3.13.8"
  }
 },
 "nbformat": 4,
 "nbformat_minor": 5
}
