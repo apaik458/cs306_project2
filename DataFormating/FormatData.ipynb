{
 "cells": [
  {
   "cell_type": "markdown",
   "id": "1437b3b3",
   "metadata": {},
   "source": [
    "This file is for creating the dataset for testing"
   ]
  },
  {
   "cell_type": "code",
   "execution_count": 13,
   "id": "424d3ae7",
   "metadata": {},
   "outputs": [],
   "source": [
    "# Importing libraries\n",
    "import os\n",
    "import pickle\n",
    "import pandas as pd\n",
    "import numpy as np\n",
    "from skimage.transform import resize\n",
    "from skimage.io import imread"
   ]
  },
  {
   "cell_type": "code",
   "execution_count": 15,
   "id": "fa96e01b",
   "metadata": {},
   "outputs": [
    {
     "name": "stdout",
     "output_type": "stream",
     "text": [
      "Data directory path: c:\\Users\\makjo\\GithubPrograms\\cs306_project2\\dataset\\ExtractedSet\\dataset\n",
      "Data directory exists: True\n"
     ]
    }
   ],
   "source": [
    "# Importing the Database (local machine)\n",
    "import os\n",
    "\n",
    "dataDir = os.path.join('..', 'dataset', 'ExtractedSet', 'dataset')\n",
    "\n",
    "# Verify the paths exist\n",
    "print(f\"Data directory path: {os.path.abspath(dataDir)}\")\n",
    "print(f\"Data directory exists: {os.path.isdir(dataDir)}\")"
   ]
  },
  {
   "cell_type": "code",
   "execution_count": 18,
   "id": "9906bab4",
   "metadata": {},
   "outputs": [
    {
     "name": "stdout",
     "output_type": "stream",
     "text": [
      "renaming... category : green\n",
      "renaming green finished\n",
      "renaming... category : sheep\n",
      "renaming sheep finished\n",
      "renaming... category : slow\n",
      "renaming slow finished\n",
      "renaming... category : stop\n",
      "renaming stop finished\n",
      "renaming... category : yellow\n",
      "renaming yellow finished\n",
      "renaming... category : free\n",
      "renaming free finished\n"
     ]
    }
   ],
   "source": [
    "#Imports\n",
    "import os\n",
    "\n",
    "#The save the directory of where all the pictures are\n",
    "picDirectory = \"../dataset/ExtractedSet/\"\n",
    "\n",
    "#Folder name of the dataset\n",
    "fileName = \"dataset\"\n",
    "\n",
    "#Compile the data path\n",
    "picPath = os.path.join(picDirectory, fileName)\n",
    "\n",
    "#Rename the files within the data directory\n",
    "categories = [\"green\", \"sheep\", \"slow\", \"stop\", \"yellow\", \"free\"]\n",
    "for classes in categories:\n",
    "    print(f\"renaming... category : {classes}\")\n",
    "    path = os.path.join(dataDir, classes)\n",
    "\n",
    "    #Check if path exists\n",
    "    if not os.path.isdir(path):\n",
    "        print(f\"Directory not found: {path}\")\n",
    "        continue\n",
    "\n",
    "    #Set up the files in the folder\n",
    "    files = os.listdir(path)\n",
    "\n",
    "    #Loop through the image folder and renaming each file\n",
    "    for i, filename in enumerate(files, start = 1):\n",
    "        newFileName = f\"{classes}{i}.jpg\"\n",
    "        newPath = os.path.join(path, newFileName)\n",
    "        \n",
    "        # Skip file renaming if file already exists\n",
    "        if os.path.exists(newPath):\n",
    "            print(f\"{filename} already exists\")\n",
    "            continue\n",
    "        oldPath = os.path.join(path, filename)\n",
    "        os.rename(oldPath, newPath)\n",
    "    \n",
    "    print(f\"renaming {classes} finished\")\n",
    "\n"
   ]
  },
  {
   "cell_type": "code",
   "execution_count": null,
   "id": "0253eda5",
   "metadata": {},
   "outputs": [
    {
     "name": "stdout",
     "output_type": "stream",
     "text": [
      "loading... category : green\n",
      "loaded category green : 329 images successfully\n",
      "loading... category : sheep\n",
      "loaded category sheep : 498 images successfully\n",
      "loading... category : slow\n",
      "loaded category slow : 360 images successfully\n",
      "loading... category : stop\n",
      "loaded category stop : 359 images successfully\n",
      "loading... category : yellow\n",
      "loaded category yellow : 311 images successfully\n",
      "loading... category : free\n"
     ]
    }
   ],
   "source": [
    "flat_data_arr = []\n",
    "target_arr = []\n",
    "categories = [\"green\", \"sheep\", \"slow\", \"stop\", \"yellow\", \"free\"]\n",
    "\n",
    "# Flattening the images into an array\n",
    "for classes in categories:\n",
    "  print(f'loading... category : {classes}')\n",
    "  path = os.path.join(picDirectory,\"dataset\" ,classes)\n",
    "  \n",
    "  # Check if path exists\n",
    "  if not os.path.isdir(path):\n",
    "    print(f\"Directory not found: {path}\")\n",
    "    continue\n",
    "  \n",
    "  counter = 0\n",
    "  for img in os.listdir(path):\n",
    "    img_path = os.path.join(path, img)\n",
    "    \n",
    "    # Skip folders - only process image files\n",
    "    if not os.path.isfile(img_path):\n",
    "      continue\n",
    "    \n",
    "    # Skip non-image files\n",
    "    if not img.lower().endswith(('.png', '.jpg', '.jpeg', '.bmp', '.tiff')):\n",
    "      continue\n",
    "    \n",
    "    img_array = imread(img_path)\n",
    "    img_array = np.squeeze(img_array)\n",
    "    img_resized = resize(img_array, (224, 224, 3))\n",
    "    \n",
    "    # Append flattened image to list\n",
    "    flat_data_arr.append(img_resized.flatten())\n",
    "    \n",
    "    # Append class label to list\n",
    "    target_arr.append(classes)\n",
    "    \n",
    "    counter += 1\n",
    "  \n",
    "  print(f'loaded category {classes} : {counter} images successfully')\n",
    "\n",
    "# Convert lists to NumPy arrays\n",
    "flat_data = np.array(flat_data_arr)\n",
    "target = np.array(target_arr)\n",
    "\n",
    "print(f\"flat_data shape: {flat_data.shape}\")\n",
    "print(f\"target shape: {target.shape}\")\n",
    "\n",
    "# Compiling the data frame for the training\n",
    "df = pd.DataFrame(flat_data)\n",
    "df['Target'] = target\n",
    "print(\"Data Frame created\")\n",
    "print(f\"DataFrame shape: {df.shape}\")"
   ]
  },
  {
   "cell_type": "code",
   "execution_count": null,
   "id": "8822335c",
   "metadata": {},
   "outputs": [
    {
     "name": "stdout",
     "output_type": "stream",
     "text": [
      "DataFrame successfully saved to ./DataFrame/testdataframe.pkl\n"
     ]
    }
   ],
   "source": [
    "# Save DataFrame to a local file\n",
    "import pandas as pd\n",
    "import os\n",
    "\n",
    "# Create the directory if it doesn't exist\n",
    "os.makedirs(os.path.dirname(FramePath), exist_ok=True)\n",
    "\n",
    "# Specify the local path where you want to save the file\n",
    "# Make sure you have write permissions to this directory\n",
    "FramePath = \"./DataFrame/testdataframe.pkl\"\n",
    "\n",
    "try:\n",
    "    df.to_pickle(FramePath)\n",
    "    print(f\"DataFrame successfully saved to {FramePath}\")\n",
    "except PermissionError:\n",
    "    print(f\"Permission denied: Unable to save the file to {FramePath}. Please check the directory path and your file permissions.\")\n",
    "except Exception as e:\n",
    "    print(f\"An error occurred: {e}\")"
   ]
  }
 ],
 "metadata": {
  "kernelspec": {
   "display_name": "Python 3",
   "language": "python",
   "name": "python3"
  },
  "language_info": {
   "codemirror_mode": {
    "name": "ipython",
    "version": 3
   },
   "file_extension": ".py",
   "mimetype": "text/x-python",
   "name": "python",
   "nbconvert_exporter": "python",
   "pygments_lexer": "ipython3",
   "version": "3.13.9"
  }
 },
 "nbformat": 4,
 "nbformat_minor": 5
}
