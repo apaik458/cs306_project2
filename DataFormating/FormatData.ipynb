{
 "cells": [
  {
   "cell_type": "markdown",
   "id": "1437b3b3",
   "metadata": {},
   "source": [
    "This file is for creating the dataset for testing and training the model\n"
   ]
  },
  {
   "cell_type": "code",
   "execution_count": 5,
   "id": "424d3ae7",
   "metadata": {},
   "outputs": [],
   "source": [
    "# Importing libraries\n",
    "import os\n",
    "import pickle\n",
    "import pandas as pd\n",
    "import numpy as np\n",
    "from skimage.transform import resize\n",
    "from skimage.io import imread"
   ]
  },
  {
   "cell_type": "markdown",
   "id": "496c6226",
   "metadata": {},
   "source": [
    "Extracting the desired Dataset from the folder into Extracted Set"
   ]
  },
  {
   "cell_type": "code",
   "execution_count": 4,
   "id": "9f5260e4",
   "metadata": {},
   "outputs": [
    {
     "name": "stdout",
     "output_type": "stream",
     "text": [
      "All files extracted from '..\\dataset\\dataset (4).zip' to '..\\dataset\\ExtractedSet'\n"
     ]
    }
   ],
   "source": [
    "#Unzipping the dataset to the ExtractedSet folder\n",
    "from zipfile import ZipFile\n",
    "\n",
    "# Input the dataset name here\n",
    "dataSetname = 'dataset (4).zip'\n",
    "# Specify the path to your zip file\n",
    "zip_file_path = os.path.join('..','dataset', dataSetname)\n",
    "# Specify the directory where you want to extract the contents\n",
    "extract_directory = os.path.join('..','dataset','ExtractedSet')\n",
    "\n",
    "with ZipFile(zip_file_path, 'r') as zip_object:\n",
    "    # Extract all the contents to the specified directory\n",
    "    zip_object.extractall(path=extract_directory)\n",
    "\n",
    "print(f\"All files extracted from '{zip_file_path}' to '{extract_directory}'\")"
   ]
  },
  {
   "cell_type": "code",
   "execution_count": 6,
   "id": "fa96e01b",
   "metadata": {},
   "outputs": [
    {
     "name": "stdout",
     "output_type": "stream",
     "text": [
      "Data directory path: c:\\Users\\makjo\\GithubPrograms\\cs306_project2\\dataset\\ExtractedSet\\dataset\n",
      "Data directory exists: True\n"
     ]
    }
   ],
   "source": [
    "# Importing the Database from the ExtractedSet\n",
    "import os\n",
    "\n",
    "dataDir = os.path.join('..', 'dataset', 'ExtractedSet', 'dataset')\n",
    "\n",
    "# Verify the paths exist\n",
    "print(f\"Data directory path: {os.path.abspath(dataDir)}\")\n",
    "print(f\"Data directory exists: {os.path.isdir(dataDir)}\")"
   ]
  },
  {
   "cell_type": "code",
   "execution_count": 7,
   "id": "9906bab4",
   "metadata": {},
   "outputs": [
    {
     "name": "stdout",
     "output_type": "stream",
     "text": [
      "renaming... category : green\n",
      "renaming green finished\n",
      "renaming... category : sheep\n",
      "renaming sheep finished\n",
      "renaming... category : slow\n",
      "renaming slow finished\n",
      "renaming... category : stop\n",
      "renaming stop finished\n",
      "renaming... category : yellow\n",
      "renaming yellow finished\n",
      "renaming... category : free\n",
      "renaming free finished\n"
     ]
    }
   ],
   "source": [
    "#Imports\n",
    "import os\n",
    "\n",
    "#The save the directory of where all the pictures are\n",
    "picDirectory = \"../dataset/ExtractedSet/\"\n",
    "\n",
    "#Folder name of the dataset\n",
    "fileName = \"dataset/\"\n",
    "\n",
    "#Compile the data path\n",
    "picPath = os.path.join(picDirectory, fileName)\n",
    "\n",
    "#Rename the files within the data directory\n",
    "categories = [\"green\", \"sheep\", \"slow\", \"stop\", \"yellow\", \"free\"]\n",
    "for classes in categories:\n",
    "    print(f\"renaming... category : {classes}\")\n",
    "    path = os.path.join(picPath, classes)\n",
    "\n",
    "    #Check if path exists\n",
    "    if not os.path.isdir(path):\n",
    "        print(f\"Directory not found: {path}\")\n",
    "        continue\n",
    "\n",
    "    #Set up the files in the folder\n",
    "    files = os.listdir(path)\n",
    "\n",
    "    #Loop through the image folder and renaming each file\n",
    "    for i, filename in enumerate(files, start = 1):\n",
    "        newFileName = f\"{classes}{i}.jpg\"\n",
    "        newPath = os.path.join(path, newFileName)\n",
    "        \n",
    "        # Skip file renaming if file already exists\n",
    "        if os.path.exists(newPath):\n",
    "            print(f\"{filename} already exists\")\n",
    "            continue\n",
    "        oldPath = os.path.join(path, filename)\n",
    "        os.rename(oldPath, newPath)\n",
    "    \n",
    "    print(f\"renaming {classes} finished\")\n",
    "\n"
   ]
  },
  {
   "cell_type": "markdown",
   "id": "53cc8ed6",
   "metadata": {},
   "source": [
    "The Following two boxes are used for creating the pre-processed images, these images would be attached with _c + it's extension"
   ]
  },
  {
   "cell_type": "code",
   "execution_count": null,
   "id": "a0af8817",
   "metadata": {},
   "outputs": [],
   "source": [
    "import cv2\n",
    "import numpy as np\n",
    "\n",
    "hue_shift_deg = 80\n",
    "sat_percent = 100\n",
    "light_percent = 10\n",
    "\n",
    "def adjust_hls(path):\n",
    "    bgr = cv2.imread(path)\n",
    "    hls = cv2.cvtColor(bgr, cv2.COLOR_BGR2HLS)\n",
    "    H, L, S = cv2.split(hls)\n",
    "\n",
    "    # Adjust: H in 0–179, L and S in 0–255\n",
    "    H = ((H.astype(np.float32) + hue_shift_deg / 2.0) % 180).astype(np.uint8)\n",
    "    S = np.full(S.shape, int(sat_percent / 100.0 * 255), dtype=np.uint8)\n",
    "    L = np.clip(L.astype(np.float32) + light_percent / 100.0 * 255, 0, 255).astype(np.uint8)\n",
    "\n",
    "    hls_adj = cv2.merge([H, L, S])\n",
    "    bgr_out = cv2.cvtColor(hls_adj, cv2.COLOR_HLS2BGR)\n",
    "    cv2.imwrite(path, bgr_out)"
   ]
  },
  {
   "cell_type": "code",
   "execution_count": null,
   "id": "af98f738",
   "metadata": {},
   "outputs": [],
   "source": [
    "import os\n",
    "from pathlib import Path\n",
    "\n",
    "\n",
    "# Set the data directory\n",
    "picDirectory = \"../dataset/ExtractedSet/dataset\"\n",
    "# Rename the files within the data directory\n",
    "categories = [\"green\", \"sheep\", \"slow\", \"stop\", \"yellow\", \"free\"]\n",
    "for classes in categories:\n",
    "    print(f\"preprocessing... category : {classes}\")\n",
    "    path = os.path.join(picDirectory, classes)\n",
    "\n",
    "    #Check if path exists\n",
    "    if not os.path.isdir(path):\n",
    "        print(f\"Directory not found: {path}\")\n",
    "        continue\n",
    "\n",
    "    #Set up the files in the folder\n",
    "    files = os.listdir(path)\n",
    "\n",
    "    #Loop through the image folder and renaming each file\n",
    "    for i, filename in enumerate(files, start = 1):\n",
    "        if (filename.endswith(\"_c.jpg\")):\n",
    "            continue\n",
    "        adjust_hls(os.path.join(path, filename))\n",
    "        nameWithoutExt = Path(filename).stem\n",
    "        newName = f\"{nameWithoutExt}_c.jpg\"\n",
    "        colourimagePath= os.path.join(path, newName)\n",
    "        os.rename(os.path.join(path, filename), colourimagePath)\n",
    "\n",
    "    print(f\"recolouring {classes} finished\")"
   ]
  },
  {
   "cell_type": "code",
   "execution_count": 11,
   "id": "0253eda5",
   "metadata": {},
   "outputs": [
    {
     "name": "stdout",
     "output_type": "stream",
     "text": [
      "loading... category : green\n",
      "loaded category green : 321 images successfully\n",
      "loading... category : sheep\n",
      "loaded category sheep : 478 images successfully\n",
      "loading... category : slow\n",
      "loaded category slow : 336 images successfully\n",
      "loading... category : stop\n",
      "loaded category stop : 360 images successfully\n",
      "loading... category : yellow\n",
      "loaded category yellow : 308 images successfully\n",
      "loading... category : free\n",
      "loaded category free : 408 images successfully\n",
      "flat_data shape: (2211, 150528)\n",
      "target shape: (2211,)\n",
      "Data Frame created\n",
      "DataFrame shape: (2211, 150529)\n"
     ]
    }
   ],
   "source": [
    "flat_data_arr = []\n",
    "target_arr = []\n",
    "categories = [\"green\", \"sheep\", \"slow\", \"stop\", \"yellow\", \"free\"]\n",
    "\n",
    "# Flattening the images into an array\n",
    "for classes in categories:\n",
    "  print(f'loading... category : {classes}')\n",
    "  path = os.path.join(picDirectory,\"dataset\" ,classes)\n",
    "  \n",
    "  # Check if path exists\n",
    "  if not os.path.isdir(path):\n",
    "    print(f\"Directory not found: {path}\")\n",
    "    continue\n",
    "  \n",
    "  counter = 0\n",
    "  for img in os.listdir(path):\n",
    "    img_path = os.path.join(path, img)\n",
    "    \n",
    "    # Skip folders - only process image files\n",
    "    if not os.path.isfile(img_path):\n",
    "      continue\n",
    "    \n",
    "    # Skip non-image files\n",
    "    if not img.lower().endswith(('.png', '.jpg', '.jpeg', '.bmp', '.tiff')):\n",
    "      continue\n",
    "    \n",
    "    img_array = imread(img_path)\n",
    "    img_array = np.squeeze(img_array)\n",
    "    img_resized = resize(img_array, (224, 224, 3))\n",
    "    \n",
    "    # Append flattened image to list\n",
    "    flat_data_arr.append(img_resized.flatten())\n",
    "    \n",
    "    # Append class label to list\n",
    "    target_arr.append(classes)\n",
    "    \n",
    "    counter += 1\n",
    "  \n",
    "  print(f'loaded category {classes} : {counter} images successfully')\n",
    "\n",
    "# Convert lists to NumPy arrays\n",
    "flat_data = np.array(flat_data_arr)\n",
    "target = np.array(target_arr)\n",
    "\n",
    "print(f\"flat_data shape: {flat_data.shape}\")\n",
    "print(f\"target shape: {target.shape}\")\n",
    "\n",
    "# Compiling the data frame for the training\n",
    "df = pd.DataFrame(flat_data)\n",
    "df['Target'] = target\n",
    "print(\"Data Frame created\")\n",
    "print(f\"DataFrame shape: {df.shape}\")"
   ]
  },
  {
   "cell_type": "code",
   "execution_count": 10,
   "id": "8822335c",
   "metadata": {},
   "outputs": [
    {
     "name": "stdout",
     "output_type": "stream",
     "text": [
      "DataFrame successfully saved to ./DataFrame/testdataframe.pkl\n"
     ]
    }
   ],
   "source": [
    "# Save DataFrame to a local file\n",
    "import pandas as pd\n",
    "import os\n",
    "\n",
    "FramePath = \"./DataFrame/testdataframe.pkl\"\n",
    "\n",
    "# Create the directory if it doesn't exist\n",
    "os.makedirs(os.path.dirname(FramePath), exist_ok=True)\n",
    "\n",
    "# Specify the local path where you want to save the file\n",
    "# Make sure you have write permissions to this directory\n",
    "\n",
    "\n",
    "try:\n",
    "    df.to_pickle(FramePath)\n",
    "    print(f\"DataFrame successfully saved to {FramePath}\")\n",
    "except PermissionError:\n",
    "    print(f\"Permission denied: Unable to save the file to {FramePath}. Please check the directory path and your file permissions.\")\n",
    "except Exception as e:\n",
    "    print(f\"An error occurred: {e}\")"
   ]
  }
 ],
 "metadata": {
  "kernelspec": {
   "display_name": "Python 3",
   "language": "python",
   "name": "python3"
  },
  "language_info": {
   "codemirror_mode": {
    "name": "ipython",
    "version": 3
   },
   "file_extension": ".py",
   "mimetype": "text/x-python",
   "name": "python",
   "nbconvert_exporter": "python",
   "pygments_lexer": "ipython3",
   "version": "3.13.9"
  }
 },
 "nbformat": 4,
 "nbformat_minor": 5
}
